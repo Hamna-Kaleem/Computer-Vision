{
  "nbformat": 4,
  "nbformat_minor": 0,
  "metadata": {
    "colab": {
      "name": "Hamna-Kaleem.ipynb",
      "provenance": [],
      "collapsed_sections": [
        "-L-RvaChHiuX",
        "0qwPmqTEIOIE"
      ]
    },
    "kernelspec": {
      "display_name": "Python 3",
      "name": "python3"
    },
    "accelerator": "GPU"
  },
  "cells": [
    {
      "cell_type": "markdown",
      "metadata": {
        "id": "-L-RvaChHiuX"
      },
      "source": [
        "# ***Tasks :  A set of images is given to perform the following tasks. ***"
      ]
    },
    {
      "cell_type": "code",
      "metadata": {
        "id": "cCWQUYQLpcTr"
      },
      "source": [
        "import glob\n",
        "import cv2 as cv\n",
        "from google.colab.patches import cv2_imshow\n",
        "\n",
        "path = glob.glob(\"/content/drive/My Drive/images/*\")\n",
        "images = []\n",
        "\n",
        "for img in path:\n",
        "    n = cv.imread(img)\n",
        "    cv2_imshow(n)\n",
        "    images.append(n)"
      ],
      "execution_count": null,
      "outputs": []
    },
    {
      "cell_type": "markdown",
      "metadata": {
        "id": "0qwPmqTEIOIE"
      },
      "source": [
        "# ***2.1 Load the set of images and display them as Grayscale and rgb images.***"
      ]
    },
    {
      "cell_type": "code",
      "metadata": {
        "id": "MAsRChWzIWTc"
      },
      "source": [
        "gray_img = []\n",
        "\n",
        "for img in images:\n",
        "    gray = cv.cvtColor(img, cv.COLOR_BGR2GRAY)\n",
        "    rgb = cv.cvtColor(img, cv.COLOR_BGR2RGB)\n",
        "    gray_img.append(gray)\n",
        "\n",
        "    cv2_imshow(img)\n",
        "    cv2_imshow(rgb)\n",
        "    cv2_imshow(gray)\n",
        "\n"
      ],
      "execution_count": null,
      "outputs": []
    },
    {
      "cell_type": "markdown",
      "metadata": {
        "id": "qxvrDkp9Uvtw"
      },
      "source": [
        "# **2.2 Implement the function rgbExclusion() in the helper script, in which the input image is decomposed into the three channels: R, G and B and return the image excluding the specified channel. Display the results in notebook.**"
      ]
    },
    {
      "cell_type": "code",
      "metadata": {
        "id": "qGYvO7-7VC5U"
      },
      "source": [
        "def rgbExclusion(img, band):\n",
        "    if band == 'R':\n",
        "        img[:,:,2] = 0\n",
        "        return img\n",
        "    elif band == 'G':\n",
        "        img[:,:,1] = 0\n",
        "        return img\n",
        "    elif band == 'B':\n",
        "        img[:,:,0] = 0 \n",
        "        return img\n",
        "    else:\n",
        "        print(\"Wrong Band Entered\")"
      ],
      "execution_count": 15,
      "outputs": []
    },
    {
      "cell_type": "code",
      "metadata": {
        "id": "jhzVOjTHVS81"
      },
      "source": [
        "for i in range(len(images)):\n",
        "    cv2_imshow(images[i])\n",
        "\n",
        "    img_copy = images[i].copy()\n",
        "    img = rgbExclusion(img_copy, 'R')\n",
        "    cv2_imshow(img)\n",
        "\n",
        "    img_copy = images[i].copy()\n",
        "    img = rgbExclusion(img_copy, 'B')\n",
        "    cv2_imshow(img)\n",
        "\n",
        "    img_copy = images[i].copy()\n",
        "    img = rgbExclusion(img_copy, 'G')\n",
        "    cv2_imshow(img)"
      ],
      "execution_count": null,
      "outputs": []
    },
    {
      "cell_type": "markdown",
      "metadata": {
        "id": "qfyp_cj_JExC"
      },
      "source": [
        "# *** 2.3 Take at-least 3 images from given set and plot histograms before and after applying histogram equalization. Show these image inline format i.e. grayscale image –> display histogram –> apply histogram equalization–> display the equalized image and its histogram.***"
      ]
    },
    {
      "cell_type": "code",
      "metadata": {
        "id": "5lzCewVbmuvo"
      },
      "source": [
        "#BEFORE HISTOGRAM EQUALIZATION\n",
        "import matplotlib.pyplot as plt\n",
        "\n",
        "for i in range(3):\n",
        "    cv2_imshow(gray_img[i])\n",
        "    img =  gray_img[i]\n",
        "    hist = cv.calcHist([img], [0], None, [256], [0,256])\n",
        "    plt.figure()\n",
        "    plt.title(\"Histogram\")\n",
        "    plt.xlabel(\"Bins\")\n",
        "    plt.ylabel(\"No of Pixels\")\n",
        "    plt.plot(hist)\n",
        "    plt.xlim([0,256])\n",
        "    plt.show()\n"
      ],
      "execution_count": null,
      "outputs": []
    },
    {
      "cell_type": "code",
      "metadata": {
        "id": "PQLbjO-PuDv_"
      },
      "source": [
        "#AFTER HISTOGRAM EQUALIZATION\n",
        "\n",
        "for i in range(3):\n",
        "    img =  gray_img[i]\n",
        "    hist_eq_img = cv.equalizeHist(img)\n",
        "    cv2_imshow(hist_eq_img)\n",
        "    hist = cv.calcHist([hist_eq_img], [0], None, [256], [0,256] )\n",
        "    plt.figure()\n",
        "    plt.title(\"Histogram\")\n",
        "    plt.xlabel(\"Bins\")\n",
        "    plt.ylabel(\"No of Pixels\")\n",
        "    plt.plot(hist)\n",
        "    plt.xlim([0,256])\n",
        "    plt.show()\n"
      ],
      "execution_count": null,
      "outputs": []
    },
    {
      "cell_type": "markdown",
      "metadata": {
        "id": "e2y7iNpsMArI"
      },
      "source": [
        "# **2.4 : You are required to implement the convolution operation from scratch. This function which takes an image and a kernel and returns the convolution of them.**"
      ]
    },
    {
      "cell_type": "markdown",
      "metadata": {
        "id": "Tn1qz516M-mP"
      },
      "source": [
        "**KERNEL FROM SCRATCH** : GRAY (SHARP,BLUR) , IMAGE(SHARP, BLUR)"
      ]
    },
    {
      "cell_type": "code",
      "metadata": {
        "id": "wuHgXgRNphav"
      },
      "source": [
        "#SHARP KERNEL ON GRAY IMAGE\n",
        "\n",
        "import numpy as np\n",
        "\n",
        "sharp_g_images = []\n",
        "s_kernel = np.array([np.array([0,-1,0]), np.array([-1,4,-1]), np.array([0,-1,0])])\n",
        "\n",
        "def sharp_kernel(img, kernel=s_kernel):\n",
        "    H,W =img.shape\n",
        "    output = np.zeros((H-2,W-2))\n",
        "    HH,WW = kernel.shape\n",
        "    for i in range(H-2):\n",
        "        for j in range(W-2):\n",
        "            roi= img[i:(i+3), j:(j+3)]\n",
        "            output[i,j] = (np.sum(roi * kernel))\n",
        "    output = output + img[1:H-1,1:W-1]\n",
        "    return output\n",
        "\n",
        "for i in range(len(gray_img)):\n",
        "    sharp_g_images.append(sharp_kernel(gray_img[i]))\n",
        "    cv2_imshow(gray_img[i])\n",
        "    cv2_imshow(sharp_g_images[i])\n"
      ],
      "execution_count": null,
      "outputs": []
    },
    {
      "cell_type": "code",
      "metadata": {
        "id": "kZDkjxoSmf24"
      },
      "source": [
        "#SHARP KERNEL ON RGB IMAGE\n",
        "\n",
        "import numpy as np\n",
        "\n",
        "sharp_images = []\n",
        "s_kernel = np.array([np.array([0,-1,0]), np.array([-1,4,-1]), np.array([0,-1,0])])\n",
        "\n",
        "def sharp_kernel(img, kernel=s_kernel):\n",
        "    H,W =img.shape\n",
        "    output = np.zeros((H-2,W-2))\n",
        "    HH,WW = kernel.shape\n",
        "    for i in range(H-2):\n",
        "        for j in range(W-2):\n",
        "            roi= img[i:(i+3), j:(j+3)]\n",
        "            output[i,j] = (np.sum(roi * kernel))\n",
        "    output = output + img[1:H-1,1:W-1]\n",
        "    return output\n",
        "\n",
        "for i in range(len(images)):\n",
        "    H,W,C = images[i].shape\n",
        "    \n",
        "    b_output = np.zeros((H-2,W-2))\n",
        "    g_output = np.zeros((H-2,W-2))\n",
        "    r_output = np.zeros((H-2,W-2))\n",
        "    c_output = np.zeros((H-2,W-2,C))\n",
        "    \n",
        "\n",
        "    b,g,r = cv.split(images[i])\n",
        "    \n",
        "    b_output =  sharp_kernel(b)\n",
        "    g_output =  sharp_kernel(g)\n",
        "    r_output =  sharp_kernel(r)\n",
        "\n",
        "    c_output = cv.merge((b_output,g_output,r_output))\n",
        "\n",
        "    sharp_images.append(c_output)\n",
        "    cv2_imshow(images[i])\n",
        "    cv2_imshow(sharp_images[i])\n"
      ],
      "execution_count": null,
      "outputs": []
    },
    {
      "cell_type": "code",
      "metadata": {
        "id": "LLddqMQ3Ss8x"
      },
      "source": [
        "#BLUR KERNEL ON GRAY IMAGE\n",
        "import numpy as np\n",
        "\n",
        "blur_g_images = []\n",
        "b_kernel = np.array([np.array([1,1,1]), np.array([1,1,1]), np.array([1,1,1])])\n",
        "\n",
        "def blur_kernel(img, kernel=b_kernel):\n",
        "    H,W =img.shape\n",
        "    output = np.zeros((H-2,W-2))\n",
        "    HH,WW = kernel.shape\n",
        "    for i in range(H-2):\n",
        "        for j in range(W-2):\n",
        "            roi= img[i:(i+3), j:(j+3)]\n",
        "            output[i,j] = np.divide((np.sum(roi * kernel)),9)\n",
        "    return output\n",
        "\n",
        "for i in range(len(gray_img)):\n",
        "    blur_g_images.append(blur_kernel(gray_img[i]))\n",
        "    cv2_imshow(gray_img[i])\n",
        "    cv2_imshow(blur_g_images[i])\n"
      ],
      "execution_count": null,
      "outputs": []
    },
    {
      "cell_type": "code",
      "metadata": {
        "id": "ZDIFSl7OXFcO"
      },
      "source": [
        "#BLUR KERNEL ON RGB IMAGE\n",
        "import numpy as np\n",
        "\n",
        "blur_images = []\n",
        "b_kernel = np.array([np.array([1,1,1]), np.array([1,1,1]), np.array([1,1,1])])\n",
        "\n",
        "def blur_kernel(img, kernel=b_kernel):\n",
        "    H,W =img.shape\n",
        "    output = np.zeros((H-2,W-2))\n",
        "    HH,WW = kernel.shape\n",
        "    for i in range(H-2):\n",
        "        for j in range(W-2):\n",
        "            roi= img[i:(i+3), j:(j+3)]\n",
        "            output[i,j] = np.divide((np.sum(roi * kernel)),9)\n",
        "    return output\n",
        "\n",
        "for i in range(len(images)):\n",
        "    H,W,C = images[i].shape\n",
        "    \n",
        "    b_output = np.zeros((H-2,W-2))\n",
        "    g_output = np.zeros((H-2,W-2))\n",
        "    r_output = np.zeros((H-2,W-2))\n",
        "    c_output = np.zeros((H-2,W-2,C))\n",
        "    \n",
        "\n",
        "    b,g,r = cv.split(images[i])\n",
        "    \n",
        "    b_output =  blur_kernel(b)\n",
        "    g_output =  blur_kernel(g)\n",
        "    r_output =  blur_kernel(r)\n",
        "\n",
        "    c_output = cv.merge((b_output,g_output,r_output))\n",
        "\n",
        "    blur_images.append(c_output)\n",
        "    cv2_imshow(images[i])\n",
        "    cv2_imshow(blur_images[i])\n"
      ],
      "execution_count": null,
      "outputs": []
    },
    {
      "cell_type": "markdown",
      "metadata": {
        "id": "iO8TmVz9Npr3"
      },
      "source": [
        "**BUILT IN  KERNELS** : GRAY (SHARP,BLUR) , IMAGE(SHARP, BLUR)"
      ]
    },
    {
      "cell_type": "code",
      "metadata": {
        "id": "Ja3KTpOIZVgd"
      },
      "source": [
        "#BLUR KERNEL ON GRAY IMAGE\n",
        "\n",
        "builtin_blur_gray = []\n",
        "\n",
        "for i in range(len(gray_img)):\n",
        "    image = cv.blur(gray_img[i],(3,3))\n",
        "    builtin_blur_gray.append(image)\n",
        "    cv2_imshow(gray_img[i])\n",
        "    cv2_imshow(builtin_blur_gray[i])"
      ],
      "execution_count": null,
      "outputs": []
    },
    {
      "cell_type": "code",
      "metadata": {
        "id": "GKvG7mv9jUx7"
      },
      "source": [
        "#BUILTIN BLUR KERNEL ON RGB IMAGE\n",
        "\n",
        "builtin_blur = []\n",
        "\n",
        "for i in range(len(images)):\n",
        "    image = cv.blur(images[i],(3,3))\n",
        "    builtin_blur.append(image)\n",
        "    cv2_imshow(images[i])\n",
        "    cv2_imshow(builtin_blur[i])"
      ],
      "execution_count": null,
      "outputs": []
    },
    {
      "cell_type": "code",
      "metadata": {
        "id": "1y4TIgORjrTS"
      },
      "source": [
        "#BUILTIN SHARP KERNEL ON GRAY IMAGE\n",
        "\n",
        "builtin_sharp_gray = []\n",
        "\n",
        "for i in range(len(gray_img)):\n",
        "    image = cv.filter2D(gray_img[i],-1,s_kernel)\n",
        "    builtin_sharp_gray.append(image)\n",
        "    cv2_imshow(gray_img[i])\n",
        "    cv2_imshow(builtin_sharp_gray[i])"
      ],
      "execution_count": null,
      "outputs": []
    },
    {
      "cell_type": "code",
      "metadata": {
        "id": "fM6xDVMqlTeD"
      },
      "source": [
        "#BUILTIN SHARP KERNEL ON RGB IMAGE\n",
        "\n",
        "builtin_sharp = []\n",
        "\n",
        "for i in range(len(images)):\n",
        "    image = cv.filter2D(images[i],-1,s_kernel)\n",
        "    image = image + images[i]\n",
        "    builtin_sharp.append(image)\n",
        "    cv2_imshow(images[i])\n",
        "    cv2_imshow(builtin_sharp[i])"
      ],
      "execution_count": null,
      "outputs": []
    },
    {
      "cell_type": "markdown",
      "metadata": {
        "id": "NVgQsbEUPu6N"
      },
      "source": [
        "\n",
        "# **2.5 : Load a couple of images from the given set. Apply box filter using convolution, and display the resultant image Apply Gaussian filter to the image, with varying sigma values. Add Gausian Noise and Salt and Pepper Noise to them. Apply Gaussian Filter and Median Filters. Display mesh plots for different i) Gaussian filters, ii) First Order Derivative of Gaussian, iii) Laplacian of Gaussian; using different sigma values**\n",
        "\n"
      ]
    },
    {
      "cell_type": "code",
      "metadata": {
        "id": "eTYUPfIel4ao"
      },
      "source": [
        "gaussian_blur = []\n",
        "# gaussian_blur_gray = []\n",
        "\n",
        "\n",
        "for i in range(len(images)):\n",
        "    # Apply box filter using convolution\n",
        "    image_box = cv.boxFilter(images[i], cv.CV_32F, (3,3), borderType=cv.BORDER_REPLICATE)\n",
        "\n",
        "    # Apply Gaussian filter\n",
        "    image = cv.GaussianBlur(image_box, (3,3), 3,0)\n",
        "    gaussian_blur.append(image)\n",
        "\n",
        "    cv2_imshow(images[i])\n",
        "    cv2_imshow(image_box)\n",
        "    cv2_imshow(gaussian_blur[i])\n",
        "\n",
        "# for i in range(len(gray_img)):\n",
        "#     image = cv.GaussianBlur(gray_img[i], (3,3), 3,0)\n",
        "#     gaussian_blur_gray.append(image)\n",
        "#     cv2_imshow(gray_img[i])\n",
        "#     cv2_imshow(gaussian_blur_gray[i])"
      ],
      "execution_count": null,
      "outputs": []
    },
    {
      "cell_type": "code",
      "metadata": {
        "id": "zVHwtAk0v45J"
      },
      "source": [
        "import numpy as np\n",
        "\n",
        "def noisy(image):\n",
        "    row,col,ch= image.shape\n",
        "    mean = 10\n",
        "    var = 10\n",
        "    sigma = var**0.5\n",
        "    gauss = np.random.normal(mean,sigma,(row,col,ch))\n",
        "    gauss = gauss.reshape(row,col,ch)\n",
        "    noisy_image = image + gauss\n",
        "    \n",
        "    image = noisy_image\n",
        "\n",
        "    row,col,ch = image.shape\n",
        "    s_vs_p = 0.5\n",
        "    amount = 0.004\n",
        "    out = np.copy(image)\n",
        "\n",
        "    # Salt mode\n",
        "    num_salt = np.ceil(amount * image.size * s_vs_p)\n",
        "    coords = [np.random.randint(0, i - 1, int(num_salt))\n",
        "            for i in image.shape]\n",
        "    out[coords] = 1\n",
        "\n",
        "    # Pepper mode\n",
        "    num_pepper = np.ceil(amount* image.size * (1. - s_vs_p))\n",
        "    coords = [np.random.randint(0, i - 1, int(num_pepper))\n",
        "            for i in image.shape]\n",
        "    out[coords] = 0\n",
        "    \n",
        "    return out"
      ],
      "execution_count": 42,
      "outputs": []
    },
    {
      "cell_type": "code",
      "metadata": {
        "id": "QUFjA8ShylXb"
      },
      "source": [
        "#ADD GAUSSIAN SALT N PEPPER NOISE\n",
        "corrupted_images = []\n",
        "\n",
        "\n",
        "for i in range(len(gaussian_blur)):\n",
        "    image = noisy(gaussian_blur[i])\n",
        "    corrupted_images.append(image)\n",
        "\n",
        "    cv2_imshow(gaussian_blur[i])\n",
        "    cv2_imshow(corrupted_images[i])"
      ],
      "execution_count": null,
      "outputs": []
    },
    {
      "cell_type": "code",
      "metadata": {
        "id": "8xgDOQ856X87"
      },
      "source": [
        "# Apply Gaussian Filter and Median Filters\n",
        "for i in range(len(corrupted_images)):\n",
        "    image = cv.GaussianBlur(corrupted_images[i], (5,5), 3,0)\n",
        "    image = cv.medianBlur(np.float32(image),3)\n",
        "    cv2_imshow(corrupted_images[i])\n",
        "    cv2_imshow(image)"
      ],
      "execution_count": null,
      "outputs": []
    },
    {
      "cell_type": "markdown",
      "metadata": {
        "id": "TAAP52-3Tj8b"
      },
      "source": [
        "# **Load a few images from the given set. Apply Sobel operator, computer gradient magnitude and display the results (original image, gradient images and gradient magnitude image). Apply Laplacian of Gaussian, computer laplacian magnitude and display the results (original image, filtered images and laplacian magnitude image). Try different filter kernel coefficients. Apply Canny Edge Detector and display the results.**"
      ]
    },
    {
      "cell_type": "code",
      "metadata": {
        "id": "R86tYSehdLN_"
      },
      "source": [
        "#2.6\n",
        "#Apply Sobel operator, computer gradient magnitude and display the results (original image, gradient images and gradient magnitude image)\n",
        "sobel_images_X = []\n",
        "sobel_images_Y = []\n",
        "\n",
        "\n",
        "for i in range(len(images)):\n",
        "    image_X = cv.Sobel(images[i],cv.CV_64F,1,0,ksize=3)\n",
        "    image_Y = cv.Sobel(images[i],cv.CV_64F,0,1,ksize=3)\n",
        "    sobel_images_X.append(image_X)\n",
        "    sobel_images_Y.append(image_Y)\n",
        "\n",
        "    #image gradient\n",
        "    sobel = np.add(image_X, image_Y)\n",
        "    \n",
        "    #gradient magnitude\n",
        "    # grad_mag = math.sqrt(np.add(math.pow(image_X,2), math.pow(image_Y,2)))\n",
        "    \n",
        "    cv2_imshow(images[i])\n",
        "    cv2_imshow(image_X)\n",
        "    cv2_imshow(image_Y)\n",
        "    cv2_imshow(sobel)\n",
        "\n",
        "    # cv2_imshow(grad_mag)\n",
        "\n"
      ],
      "execution_count": null,
      "outputs": []
    },
    {
      "cell_type": "code",
      "metadata": {
        "id": "pGDPDd_d9DYG"
      },
      "source": [
        "#2.6 Apply Laplacian of Gaussian, computer laplacian magnitude and display the results\n",
        "lap_images = []\n",
        "\n",
        "\n",
        "for i in range(len(images)):\n",
        "    image = cv.Laplacian(images[i], cv.CV_64F,3)\n",
        "    lap_images.append(image)\n",
        "    \n",
        "    #gradient magnitude\n",
        "    # grad_mag = math.sqrt(np.add(math.pow(image_X,2), math.pow(image_Y,2)))\n",
        "    \n",
        "    cv2_imshow(images[i])\n",
        "    cv2_imshow(image)\n"
      ],
      "execution_count": null,
      "outputs": []
    },
    {
      "cell_type": "code",
      "metadata": {
        "id": "jnVwHnsi_u0r"
      },
      "source": [
        "#2.6 Apply Canny Edge Detector and display the results.\n",
        "canny_images= []\n",
        "for i in range(len(images)):\n",
        "    image = cv.Canny(images[i],100,200)\n",
        "    canny_images.append(image)\n",
        "    cv2_imshow(images[i])\n",
        "    cv2_imshow(image)\n"
      ],
      "execution_count": null,
      "outputs": []
    },
    {
      "cell_type": "code",
      "metadata": {
        "id": "wJ41MMQDCYeb"
      },
      "source": [
        "# #2.7 Video Capturing\n",
        "\n",
        "# canny_frames = []\n",
        "\n",
        "# capture = cv.VideoCapture(\"/content/drive/My Drive/cat.mp4\")\n",
        "\n",
        "# while True:\n",
        "#     isTrue, Frame = capture.read()\n",
        "#     image = cv.Canny(Frame,100,200)\n",
        "#     canny_frames.append(image)\n",
        "\n",
        "#     if cv.waitKey(20) and 0xFF == ord('d'):\n",
        "#         break\n",
        "\n",
        "# capture.release()\n",
        "# cv.destroyAllWindows()\n",
        "\n",
        "# for i in range(len(canny_frames)):\n",
        "#     cv2_imshow(canny_frames[i])\n",
        "\n",
        "\n",
        "\n",
        "\n"
      ],
      "execution_count": 36,
      "outputs": []
    }
  ]
}